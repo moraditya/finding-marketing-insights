{
 "cells": [
  {
   "cell_type": "code",
   "execution_count": 3,
   "id": "4f140d5f",
   "metadata": {},
   "outputs": [],
   "source": [
    "# import relevant libraries\n",
    "import pandas as pd\n",
    "import numpy as np\n",
    "import matplotlib.pyplot as plt\n",
    "import seaborn as sns\n",
    "from sklearn.preprocessing import StandardScaler\n",
    "from sklearn.cluster import KMeans\n",
    "from sklearn.model_selection import train_test_split\n",
    "from sklearn.tree import DecisionTreeClassifier\n",
    "from sklearn.ensemble import RandomForestClassifier\n",
    "from sklearn.metrics import accuracy_score, classification_report, confusion_matrix\n",
    "from mlxtend.frequent_patterns import apriori, association_rules\n",
    "from sklearn.linear_model import LinearRegression\n",
    "from sklearn.metrics import r2_score\n",
    "from mlxtend.frequent_patterns import apriori, association_rules\n",
    "from imblearn.over_sampling import SMOTE"
   ]
  },
  {
   "cell_type": "code",
   "execution_count": 4,
   "id": "eda26711",
   "metadata": {},
   "outputs": [],
   "source": [
    "# load dataframes\n",
    "spend_revenue = pd.read_csv(r\"/Users/adityamxr/Desktop/finding-marketing-insights/data-analysis/spend_revenue.csv\")\n",
    "sales_full_merged = pd.read_csv(r\"/Users/adityamxr/Desktop/finding-marketing-insights/data-analysis/sales_full_merged.csv\")\n",
    "rfm = pd.read_csv(r\"/Users/adityamxr/Desktop/finding-marketing-insights/models/rfm.csv\")"
   ]
  },
  {
   "cell_type": "code",
   "execution_count": null,
   "id": "10905b1e",
   "metadata": {},
   "outputs": [],
   "source": []
  }
 ],
 "metadata": {
  "kernelspec": {
   "display_name": "Python 3 (ipykernel)",
   "language": "python",
   "name": "python3"
  },
  "language_info": {
   "codemirror_mode": {
    "name": "ipython",
    "version": 3
   },
   "file_extension": ".py",
   "mimetype": "text/x-python",
   "name": "python",
   "nbconvert_exporter": "python",
   "pygments_lexer": "ipython3",
   "version": "3.11.5"
  }
 },
 "nbformat": 4,
 "nbformat_minor": 5
}
