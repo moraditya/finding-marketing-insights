{
 "cells": [
  {
   "cell_type": "code",
   "execution_count": 1,
   "id": "f6675d68",
   "metadata": {},
   "outputs": [],
   "source": [
    "# import relevant libraries\n",
    "\n",
    "import pandas as pd\n",
    "import numpy as np\n",
    "from sklearn.linear_model import LinearRegression\n",
    "from sklearn.metrics import r2_score"
   ]
  },
  {
   "cell_type": "code",
   "execution_count": 2,
   "id": "5e82717c",
   "metadata": {},
   "outputs": [],
   "source": [
    "# load csvs from data-analysis folder\n",
    "\n",
    "spend_revenue = pd.read_csv(r\"/Users/adityamxr/Desktop/finding-marketing-insights/data-analysis/spend_revenue.csv\")\n",
    "sales_full_merged = pd.read_csv(r\"/Users/adityamxr/Desktop/finding-marketing-insights/data-analysis/sales_full_merged.csv\")"
   ]
  },
  {
   "cell_type": "code",
   "execution_count": 3,
   "id": "e5298b82",
   "metadata": {},
   "outputs": [
    {
     "name": "stdout",
     "output_type": "stream",
     "text": [
      "<class 'pandas.core.frame.DataFrame'>\n",
      "RangeIndex: 12 entries, 0 to 11\n",
      "Data columns (total 6 columns):\n",
      " #   Column                      Non-Null Count  Dtype  \n",
      "---  ------                      --------------  -----  \n",
      " 0   YearMonth                   12 non-null     object \n",
      " 1   Total_Revenue               12 non-null     float64\n",
      " 2   Offline_Spend               12 non-null     int64  \n",
      " 3   Online_Spend                12 non-null     float64\n",
      " 4   Total_Spend                 12 non-null     float64\n",
      " 5   Marketing_Spend_Percentage  12 non-null     float64\n",
      "dtypes: float64(4), int64(1), object(1)\n",
      "memory usage: 708.0+ bytes\n",
      "None\n",
      "<class 'pandas.core.frame.DataFrame'>\n",
      "RangeIndex: 52924 entries, 0 to 52923\n",
      "Data columns (total 19 columns):\n",
      " #   Column                Non-Null Count  Dtype  \n",
      "---  ------                --------------  -----  \n",
      " 0   CustomerID            52924 non-null  int64  \n",
      " 1   Transaction_ID        52924 non-null  int64  \n",
      " 2   Transaction_Date      52924 non-null  object \n",
      " 3   Product_SKU           52924 non-null  object \n",
      " 4   Product_Description   52924 non-null  object \n",
      " 5   Product_Category      52924 non-null  object \n",
      " 6   Quantity              52924 non-null  int64  \n",
      " 7   Avg_Price             52924 non-null  float64\n",
      " 8   Delivery_Charges      52924 non-null  float64\n",
      " 9   Coupon_Status         52924 non-null  object \n",
      " 10  Month                 52924 non-null  int64  \n",
      " 11  Coupon_Code           52524 non-null  object \n",
      " 12  Discount_pct          52924 non-null  float64\n",
      " 13  GST                   52924 non-null  float64\n",
      " 14  Invoice_Value         52924 non-null  float64\n",
      " 15  YearMonth             52924 non-null  object \n",
      " 16  First_Purchase_Month  52924 non-null  object \n",
      " 17  YearWeek              52924 non-null  object \n",
      " 18  DayOfWeek             52924 non-null  object \n",
      "dtypes: float64(5), int64(4), object(10)\n",
      "memory usage: 7.7+ MB\n",
      "None\n"
     ]
    }
   ],
   "source": [
    "# verify import\n",
    "\n",
    "dfs = [spend_revenue, sales_full_merged]\n",
    "\n",
    "for df in dfs:\n",
    "    print(df.info())"
   ]
  },
  {
   "cell_type": "code",
   "execution_count": null,
   "id": "81afa30d",
   "metadata": {},
   "outputs": [],
   "source": []
  }
 ],
 "metadata": {
  "kernelspec": {
   "display_name": "Python 3 (ipykernel)",
   "language": "python",
   "name": "python3"
  },
  "language_info": {
   "codemirror_mode": {
    "name": "ipython",
    "version": 3
   },
   "file_extension": ".py",
   "mimetype": "text/x-python",
   "name": "python",
   "nbconvert_exporter": "python",
   "pygments_lexer": "ipython3",
   "version": "3.11.5"
  }
 },
 "nbformat": 4,
 "nbformat_minor": 5
}
