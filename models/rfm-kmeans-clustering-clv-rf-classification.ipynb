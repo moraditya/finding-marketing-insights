{
 "cells": [
  {
   "cell_type": "code",
   "execution_count": 21,
   "id": "1713eecc",
   "metadata": {},
   "outputs": [],
   "source": [
    "# import relevant libraries\n",
    "\n",
    "import pandas as pd\n",
    "import numpy as np\n",
    "import matplotlib.pyplot as plt\n",
    "import seaborn as sns\n",
    "from sklearn.preprocessing import StandardScaler\n",
    "from sklearn.cluster import KMeans\n",
    "from sklearn.model_selection import train_test_split\n",
    "from sklearn.tree import DecisionTreeClassifier\n",
    "from sklearn.ensemble import RandomForestClassifier\n",
    "from sklearn.metrics import accuracy_score, classification_report, confusion_matrix\n",
    "from imblearn.over_sampling import SMOTE\n",
    "from sklearn.model_selection import cross_val_score"
   ]
  },
  {
   "cell_type": "code",
   "execution_count": 3,
   "id": "463c9333",
   "metadata": {},
   "outputs": [],
   "source": [
    "# load dataframes and relevant csvs\n",
    "\n",
    "spend_revenue = pd.read_csv(r\"/Users/adityamxr/Desktop/finding-marketing-insights/data-analysis/spend_revenue.csv\")\n",
    "sales_full_merged = pd.read_csv(r\"/Users/adityamxr/Desktop/finding-marketing-insights/data-analysis/sales_full_merged.csv\")\n",
    "rfm = pd.read_csv(r\"/Users/adityamxr/Desktop/finding-marketing-insights/models/rfm.csv\")"
   ]
  },
  {
   "cell_type": "markdown",
   "id": "f75aa7f9",
   "metadata": {},
   "source": [
    "## K-Means Clustering to Understand RFM profiles + Strategy"
   ]
  },
  {
   "cell_type": "code",
   "execution_count": 4,
   "id": "399cb25a",
   "metadata": {},
   "outputs": [],
   "source": [
    "# prepare the data (RFM values)\n",
    "rfm_for_clustering = rfm[['Recency', 'Frequency', 'Monetary']]"
   ]
  },
  {
   "cell_type": "code",
   "execution_count": 5,
   "id": "c505a3a8",
   "metadata": {},
   "outputs": [],
   "source": [
    "# standardize the RFM values (important for K-Means to work effectively)\n",
    "scaler = StandardScaler()\n",
    "rfm_scaled = scaler.fit_transform(rfm_for_clustering)"
   ]
  },
  {
   "cell_type": "code",
   "execution_count": 6,
   "id": "2787c497",
   "metadata": {},
   "outputs": [],
   "source": [
    "# apply K-Means clustering\n",
    "\n",
    "# define the number of clusters\n",
    "kmeans = KMeans(n_clusters=4, random_state=42)\n",
    "rfm['KMeans_Cluster'] = kmeans.fit_predict(rfm_scaled)\n",
    "\n",
    "# analyze cluster profiles\n",
    "# group by the clusters and calculate the mean Recency, Frequency, and Monetary for each cluster\n",
    "cluster_profiles = rfm.groupby('KMeans_Cluster').agg({\n",
    "    'Recency': 'mean',\n",
    "    'Frequency': 'mean',\n",
    "    'Monetary': 'mean',\n",
    "    'CustomerID': 'count'  # Count the number of customers in each cluster\n",
    "}).rename(columns={'CustomerID': 'Number_of_Customers'}).reset_index()"
   ]
  },
  {
   "cell_type": "code",
   "execution_count": 7,
   "id": "c3bde834",
   "metadata": {},
   "outputs": [
    {
     "name": "stdout",
     "output_type": "stream",
     "text": [
      "   KMeans_Cluster     Recency   Frequency      Monetary  Number_of_Customers\n",
      "0               0   78.437247   12.892038   1950.349249                  741\n",
      "1               1   81.553672   55.977401   9559.543873                  177\n",
      "2               2  255.108456   10.194853   1562.488956                  544\n",
      "3               3   80.833333  270.666667  53059.966194                    6\n"
     ]
    }
   ],
   "source": [
    "# display cluster profiles to understand the characteristics\n",
    "print(cluster_profiles)\n",
    "\n",
    "# define strategies for each K-Means cluster based on their profiles\n",
    "# assign strategies to clusters 0, 1, 2, 3\n",
    "cluster_strategy = {\n",
    "    0: \"High spenders with frequent purchases, engage with personalized offers to retain them.\",\n",
    "    1: \"Infrequent purchasers with low spend, use incentives like discounts or loyalty programs.\",\n",
    "    2: \"Moderate spenders, encourage repeat purchases with targeted marketing.\",\n",
    "    3: \"New or inactive customers, focus on reactivation campaigns with special offers.\"\n",
    "}\n",
    "\n",
    "# map strategies to each K-Means cluster\n",
    "rfm['Cluster_Strategy'] = rfm['KMeans_Cluster'].map(cluster_strategy)"
   ]
  },
  {
   "cell_type": "code",
   "execution_count": 8,
   "id": "59882339",
   "metadata": {},
   "outputs": [
    {
     "data": {
      "text/html": [
       "<div>\n",
       "<style scoped>\n",
       "    .dataframe tbody tr th:only-of-type {\n",
       "        vertical-align: middle;\n",
       "    }\n",
       "\n",
       "    .dataframe tbody tr th {\n",
       "        vertical-align: top;\n",
       "    }\n",
       "\n",
       "    .dataframe thead th {\n",
       "        text-align: right;\n",
       "    }\n",
       "</style>\n",
       "<table border=\"1\" class=\"dataframe\">\n",
       "  <thead>\n",
       "    <tr style=\"text-align: right;\">\n",
       "      <th></th>\n",
       "      <th>CustomerID</th>\n",
       "      <th>Recency</th>\n",
       "      <th>Frequency</th>\n",
       "      <th>Monetary</th>\n",
       "      <th>R_Score</th>\n",
       "      <th>F_Score</th>\n",
       "      <th>M_Score</th>\n",
       "      <th>RFM_Score</th>\n",
       "      <th>Segment</th>\n",
       "      <th>Strategy</th>\n",
       "      <th>KMeans_Cluster</th>\n",
       "      <th>Cluster_Strategy</th>\n",
       "    </tr>\n",
       "  </thead>\n",
       "  <tbody>\n",
       "    <tr>\n",
       "      <th>0</th>\n",
       "      <td>12346</td>\n",
       "      <td>107</td>\n",
       "      <td>1</td>\n",
       "      <td>171.725887</td>\n",
       "      <td>3</td>\n",
       "      <td>1</td>\n",
       "      <td>1</td>\n",
       "      <td>5</td>\n",
       "      <td>Silver</td>\n",
       "      <td>Provide incentives like discounts or free ship...</td>\n",
       "      <td>0</td>\n",
       "      <td>High spenders with frequent purchases, engage ...</td>\n",
       "    </tr>\n",
       "    <tr>\n",
       "      <th>1</th>\n",
       "      <td>12347</td>\n",
       "      <td>59</td>\n",
       "      <td>31</td>\n",
       "      <td>10632.890268</td>\n",
       "      <td>3</td>\n",
       "      <td>4</td>\n",
       "      <td>4</td>\n",
       "      <td>11</td>\n",
       "      <td>Premium</td>\n",
       "      <td>Focus on maintaining a strong relationship thr...</td>\n",
       "      <td>1</td>\n",
       "      <td>Infrequent purchasers with low spend, use ince...</td>\n",
       "    </tr>\n",
       "    <tr>\n",
       "      <th>2</th>\n",
       "      <td>12348</td>\n",
       "      <td>73</td>\n",
       "      <td>8</td>\n",
       "      <td>1341.274742</td>\n",
       "      <td>3</td>\n",
       "      <td>2</td>\n",
       "      <td>2</td>\n",
       "      <td>7</td>\n",
       "      <td>Gold</td>\n",
       "      <td>Engage more with targeted offers and loyalty p...</td>\n",
       "      <td>0</td>\n",
       "      <td>High spenders with frequent purchases, engage ...</td>\n",
       "    </tr>\n",
       "    <tr>\n",
       "      <th>3</th>\n",
       "      <td>12350</td>\n",
       "      <td>17</td>\n",
       "      <td>11</td>\n",
       "      <td>1080.966849</td>\n",
       "      <td>4</td>\n",
       "      <td>2</td>\n",
       "      <td>2</td>\n",
       "      <td>8</td>\n",
       "      <td>Gold</td>\n",
       "      <td>Engage more with targeted offers and loyalty p...</td>\n",
       "      <td>0</td>\n",
       "      <td>High spenders with frequent purchases, engage ...</td>\n",
       "    </tr>\n",
       "    <tr>\n",
       "      <th>4</th>\n",
       "      <td>12356</td>\n",
       "      <td>107</td>\n",
       "      <td>13</td>\n",
       "      <td>1648.281319</td>\n",
       "      <td>3</td>\n",
       "      <td>3</td>\n",
       "      <td>3</td>\n",
       "      <td>9</td>\n",
       "      <td>Gold</td>\n",
       "      <td>Engage more with targeted offers and loyalty p...</td>\n",
       "      <td>0</td>\n",
       "      <td>High spenders with frequent purchases, engage ...</td>\n",
       "    </tr>\n",
       "  </tbody>\n",
       "</table>\n",
       "</div>"
      ],
      "text/plain": [
       "   CustomerID  Recency  Frequency      Monetary  R_Score  F_Score  M_Score  \\\n",
       "0       12346      107          1    171.725887        3        1        1   \n",
       "1       12347       59         31  10632.890268        3        4        4   \n",
       "2       12348       73          8   1341.274742        3        2        2   \n",
       "3       12350       17         11   1080.966849        4        2        2   \n",
       "4       12356      107         13   1648.281319        3        3        3   \n",
       "\n",
       "   RFM_Score  Segment                                           Strategy  \\\n",
       "0          5   Silver  Provide incentives like discounts or free ship...   \n",
       "1         11  Premium  Focus on maintaining a strong relationship thr...   \n",
       "2          7     Gold  Engage more with targeted offers and loyalty p...   \n",
       "3          8     Gold  Engage more with targeted offers and loyalty p...   \n",
       "4          9     Gold  Engage more with targeted offers and loyalty p...   \n",
       "\n",
       "   KMeans_Cluster                                   Cluster_Strategy  \n",
       "0               0  High spenders with frequent purchases, engage ...  \n",
       "1               1  Infrequent purchasers with low spend, use ince...  \n",
       "2               0  High spenders with frequent purchases, engage ...  \n",
       "3               0  High spenders with frequent purchases, engage ...  \n",
       "4               0  High spenders with frequent purchases, engage ...  "
      ]
     },
     "execution_count": 8,
     "metadata": {},
     "output_type": "execute_result"
    }
   ],
   "source": [
    "# display the RFM dataframe with the new clusters and strategies\n",
    "rfm.head()"
   ]
  },
  {
   "cell_type": "code",
   "execution_count": 12,
   "id": "e6109336",
   "metadata": {},
   "outputs": [
    {
     "data": {
      "image/png": "[encoded data removed]",
      "text/plain": [
       "<Figure size 1000x500 with 1 Axes>"
      ]
     },
     "metadata": {},
     "output_type": "display_data"
    },
    {
     "data": {
      "image/png": "[encoded data removed]",
      "text/plain": [
       "<Figure size 1000x500 with 1 Axes>"
      ]
     },
     "metadata": {},
     "output_type": "display_data"
    },
    {
     "data": {
      "image/png": "[encoded data removed]",
      "text/plain": [
       "<Figure size 1000x500 with 1 Axes>"
      ]
     },
     "metadata": {},
     "output_type": "display_data"
    }
   ],
   "source": [
    "# Visualize the Cluster Profiles\n",
    "\n",
    "# Calculate the average Recency, Frequency, and Monetary for each cluster\n",
    "cluster_profiles = rfm.groupby('KMeans_Cluster').agg({\n",
    "    'Recency': 'mean',\n",
    "    'Frequency': 'mean',\n",
    "    'Monetary': 'mean'\n",
    "}).reset_index()\n",
    "\n",
    "# Bar plot for Recency\n",
    "plt.figure(figsize=(10, 5))\n",
    "sns.barplot(x='KMeans_Cluster', y='Recency', data=cluster_profiles, palette='viridis')\n",
    "plt.title('Average Recency per K-Means Cluster')\n",
    "plt.xlabel('K-Means Cluster')\n",
    "plt.ylabel('Average Recency (days)')\n",
    "plt.show()\n",
    "\n",
    "# Bar plot for Frequency\n",
    "plt.figure(figsize=(10, 5))\n",
    "sns.barplot(x='KMeans_Cluster', y='Frequency', data=cluster_profiles, palette='Spectral')\n",
    "plt.title('Average Frequency per K-Means Cluster')\n",
    "plt.xlabel('K-Means Cluster')\n",
    "plt.ylabel('Average Frequency (number of purchases)')\n",
    "plt.show()\n",
    "\n",
    "# Bar plot for Monetary\n",
    "plt.figure(figsize=(10, 5))\n",
    "sns.barplot(x='KMeans_Cluster', y='Monetary', data=cluster_profiles, palette='Set2')\n",
    "plt.title('Average Monetary Value per K-Means Cluster')\n",
    "plt.xlabel('K-Means Cluster')\n",
    "plt.ylabel('Average Monetary Value (revenue)')\n",
    "plt.show()"
   ]
  },
  {
   "cell_type": "markdown",
   "id": "329b3ce1",
   "metadata": {},
   "source": [
    "## Predicting Customer Lifetime Value (Low, Med, High) + Classification Model"
   ]
  },
  {
   "cell_type": "code",
   "execution_count": 13,
   "id": "7be06535",
   "metadata": {},
   "outputs": [
    {
     "name": "stdout",
     "output_type": "stream",
     "text": [
      "       CustomerID  Total_Revenue\n",
      "52919       14410     828.920096\n",
      "52920       14410     828.920096\n",
      "52921       14410     828.920096\n",
      "52922       14600     534.273276\n",
      "52923       14600     534.273276\n"
     ]
    }
   ],
   "source": [
    "# calculate total revenue for each customer by summing their invoice values\n",
    "customer_revenue = sales_full_merged.groupby('CustomerID')['Invoice_Value'].sum().reset_index()\n",
    "\n",
    "# rename the column for clarity\n",
    "customer_revenue.rename(columns={'Invoice_Value': 'Total_Revenue'}, inplace=True)\n",
    "\n",
    "# merge the customer revenue back into the merged dataset\n",
    "sales_full_merged = pd.merge(sales_full_merged, customer_revenue, on='CustomerID', how='left')\n",
    "\n",
    "# check the data\n",
    "print(sales_full_merged[['CustomerID', 'Total_Revenue']].tail())"
   ]
  },
  {
   "cell_type": "code",
   "execution_count": 14,
   "id": "8750ad1d",
   "metadata": {},
   "outputs": [
    {
     "name": "stdout",
     "output_type": "stream",
     "text": [
      "CLV_Category\n",
      "Medium    17676\n",
      "Low       17669\n",
      "High      17579\n",
      "Name: count, dtype: int64\n"
     ]
    }
   ],
   "source": [
    "# define CLV dependent variable categories (Low, Medium, High) based on Total_Revenue using quantiles\n",
    "sales_full_merged['CLV_Category'] = pd.qcut(sales_full_merged['Total_Revenue'], q=3, labels=['Low', 'Medium', 'High'])\n",
    "\n",
    "# check the distribution of CLV categories\n",
    "print(sales_full_merged['CLV_Category'].value_counts())"
   ]
  },
  {
   "cell_type": "code",
   "execution_count": 16,
   "id": "8ae0ee9e",
   "metadata": {},
   "outputs": [],
   "source": [
    "# transaction_date is in str format - convert to datetime\n",
    "sales_full_merged['Transaction_Date'] = pd.to_datetime(sales_full_merged['Transaction_Date'])"
   ]
  },
  {
   "cell_type": "code",
   "execution_count": 17,
   "id": "d0b0065b",
   "metadata": {},
   "outputs": [
    {
     "data": {
      "text/html": [
       "<div>\n",
       "<style scoped>\n",
       "    .dataframe tbody tr th:only-of-type {\n",
       "        vertical-align: middle;\n",
       "    }\n",
       "\n",
       "    .dataframe tbody tr th {\n",
       "        vertical-align: top;\n",
       "    }\n",
       "\n",
       "    .dataframe thead th {\n",
       "        text-align: right;\n",
       "    }\n",
       "</style>\n",
       "<table border=\"1\" class=\"dataframe\">\n",
       "  <thead>\n",
       "    <tr style=\"text-align: right;\">\n",
       "      <th></th>\n",
       "      <th>CustomerID</th>\n",
       "      <th>Recency</th>\n",
       "      <th>Frequency</th>\n",
       "      <th>Quantity</th>\n",
       "      <th>Delivery_Charges</th>\n",
       "      <th>Discount_pct</th>\n",
       "      <th>Total_Revenue</th>\n",
       "      <th>CLV_Category</th>\n",
       "    </tr>\n",
       "  </thead>\n",
       "  <tbody>\n",
       "    <tr>\n",
       "      <th>0</th>\n",
       "      <td>12346</td>\n",
       "      <td>107</td>\n",
       "      <td>1</td>\n",
       "      <td>3</td>\n",
       "      <td>75.000000</td>\n",
       "      <td>30.000000</td>\n",
       "      <td>171.725887</td>\n",
       "      <td>Low</td>\n",
       "    </tr>\n",
       "    <tr>\n",
       "      <th>1</th>\n",
       "      <td>12347</td>\n",
       "      <td>59</td>\n",
       "      <td>31</td>\n",
       "      <td>342</td>\n",
       "      <td>11.085667</td>\n",
       "      <td>24.666667</td>\n",
       "      <td>10632.890268</td>\n",
       "      <td>High</td>\n",
       "    </tr>\n",
       "    <tr>\n",
       "      <th>2</th>\n",
       "      <td>12348</td>\n",
       "      <td>73</td>\n",
       "      <td>8</td>\n",
       "      <td>209</td>\n",
       "      <td>8.571739</td>\n",
       "      <td>24.782609</td>\n",
       "      <td>1341.274742</td>\n",
       "      <td>Low</td>\n",
       "    </tr>\n",
       "    <tr>\n",
       "      <th>3</th>\n",
       "      <td>12350</td>\n",
       "      <td>17</td>\n",
       "      <td>11</td>\n",
       "      <td>21</td>\n",
       "      <td>7.522353</td>\n",
       "      <td>30.000000</td>\n",
       "      <td>1080.966849</td>\n",
       "      <td>Low</td>\n",
       "    </tr>\n",
       "    <tr>\n",
       "      <th>4</th>\n",
       "      <td>12356</td>\n",
       "      <td>107</td>\n",
       "      <td>13</td>\n",
       "      <td>56</td>\n",
       "      <td>17.708056</td>\n",
       "      <td>30.000000</td>\n",
       "      <td>1648.281319</td>\n",
       "      <td>Low</td>\n",
       "    </tr>\n",
       "  </tbody>\n",
       "</table>\n",
       "</div>"
      ],
      "text/plain": [
       "   CustomerID  Recency  Frequency  Quantity  Delivery_Charges  Discount_pct  \\\n",
       "0       12346      107          1         3         75.000000     30.000000   \n",
       "1       12347       59         31       342         11.085667     24.666667   \n",
       "2       12348       73          8       209          8.571739     24.782609   \n",
       "3       12350       17         11        21          7.522353     30.000000   \n",
       "4       12356      107         13        56         17.708056     30.000000   \n",
       "\n",
       "   Total_Revenue CLV_Category  \n",
       "0     171.725887          Low  \n",
       "1   10632.890268         High  \n",
       "2    1341.274742          Low  \n",
       "3    1080.966849          Low  \n",
       "4    1648.281319          Low  "
      ]
     },
     "execution_count": 17,
     "metadata": {},
     "output_type": "execute_result"
    }
   ],
   "source": [
    "# recalculate recency and frequency and add them to the sales_full_merged df so they can be used as features for classification\n",
    "\n",
    "# recalculate Recency\n",
    "latest_transaction_date = sales_full_merged['Transaction_Date'].max()\n",
    "sales_full_merged['Recency'] = sales_full_merged.groupby('CustomerID')['Transaction_Date'].transform(lambda x: (latest_transaction_date - x.max()).days)\n",
    "\n",
    "# recalculate Frequency\n",
    "sales_full_merged['Frequency'] = sales_full_merged.groupby('CustomerID')['Transaction_ID'].transform('nunique')\n",
    "\n",
    "# aggregate features like Quantity, Delivery_Charges, Discount_pct at the customer level\n",
    "customer_features = sales_full_merged.groupby('CustomerID').agg({\n",
    "    'Recency': 'max',           # most recent transaction date per customer\n",
    "    'Frequency': 'max',         # total transactions per customer\n",
    "    'Quantity': 'sum',          # total quantity of products purchased\n",
    "    'Delivery_Charges': 'mean', # average delivery charges paid by the customer\n",
    "    'Discount_pct': 'mean',     # average discount percentage received by the customer\n",
    "}).reset_index()\n",
    "\n",
    "# merge the features\n",
    "customer_features = pd.merge(customer_features, sales_full_merged[['CustomerID', 'Total_Revenue', 'CLV_Category']].drop_duplicates(), on='CustomerID')\n",
    "\n",
    "# check the first few rows\n",
    "customer_features.head()"
   ]
  },
  {
   "cell_type": "code",
   "execution_count": 18,
   "id": "4b8dd48e",
   "metadata": {},
   "outputs": [],
   "source": [
    "# prepare the data for classification, excluding Total_Revenue and CLV_Category\n",
    "X = customer_features[['Recency', 'Frequency', 'Quantity', 'Delivery_Charges', 'Discount_pct']]\n",
    "y = customer_features['CLV_Category']\n",
    "\n",
    "# use stratify to ensure each class has approximately the same proportion of samples in both the training and testing sets\n",
    "# since these sets are randomly assigned\n",
    "X_train, X_test, y_train, y_test = train_test_split(X, y, test_size=0.3, random_state=42, stratify=y)"
   ]
  },
  {
   "cell_type": "code",
   "execution_count": 19,
   "id": "d6e98613",
   "metadata": {},
   "outputs": [
    {
     "name": "stdout",
     "output_type": "stream",
     "text": [
      "Accuracy: 0.9093\n",
      "Classification Report:\n",
      "              precision    recall  f1-score   support\n",
      "\n",
      "        High       0.93      0.72      0.81        36\n",
      "         Low       0.94      0.97      0.96       314\n",
      "      Medium       0.78      0.78      0.78        91\n",
      "\n",
      "    accuracy                           0.91       441\n",
      "   macro avg       0.88      0.82      0.85       441\n",
      "weighted avg       0.91      0.91      0.91       441\n",
      "\n",
      "Confusion Matrix:\n",
      "[[ 26   0  10]\n",
      " [  0 304  10]\n",
      " [  2  18  71]]\n"
     ]
    }
   ],
   "source": [
    "clf = RandomForestClassifier(random_state=42)\n",
    "clf.fit(X_train, y_train)\n",
    "\n",
    "# make predictions and evaluate the model\n",
    "y_pred = clf.predict(X_test)\n",
    "\n",
    "# evaluate the model's accuracy\n",
    "accuracy = accuracy_score(y_test, y_pred)\n",
    "print(f'Accuracy: {accuracy:.4f}')\n",
    "\n",
    "# Generate a classification report and confusion matrix\n",
    "print('Classification Report:')\n",
    "print(classification_report(y_test, y_pred))\n",
    "\n",
    "print('Confusion Matrix:')\n",
    "print(confusion_matrix(y_test, y_pred))"
   ]
  },
  {
   "cell_type": "code",
   "execution_count": 22,
   "id": "25add026",
   "metadata": {},
   "outputs": [
    {
     "name": "stdout",
     "output_type": "stream",
     "text": [
      "Cross-Validation Scores: [0.90816327 0.9047619  0.89795918 0.93856655 0.89419795]\n",
      "Mean Cross-Validation Accuracy: 0.9087\n"
     ]
    }
   ],
   "source": [
    "# perform 5-fold cross-validation on the RandomForest model\n",
    "cv_scores = cross_val_score(clf, X, y, cv=5)\n",
    "\n",
    "# print cross-validation scores and mean accuracy\n",
    "print(f'Cross-Validation Scores: {cv_scores}')\n",
    "print(f'Mean Cross-Validation Accuracy: {cv_scores.mean():.4f}')"
   ]
  },
  {
   "cell_type": "code",
   "execution_count": 23,
   "id": "4b150f63",
   "metadata": {},
   "outputs": [
    {
     "name": "stdout",
     "output_type": "stream",
     "text": [
      "Training Accuracy: 1.0000\n",
      "Test Accuracy: 0.9093\n"
     ]
    }
   ],
   "source": [
    "# training accuracy\n",
    "train_accuracy = clf.score(X_train, y_train)\n",
    "\n",
    "# test accuracy\n",
    "test_accuracy = clf.score(X_test, y_test)\n",
    "\n",
    "print(f'Training Accuracy: {train_accuracy:.4f}')\n",
    "print(f'Test Accuracy: {test_accuracy:.4f}')"
   ]
  },
  {
   "cell_type": "markdown",
   "id": "d7e2abe9",
   "metadata": {},
   "source": [
    "### Model is overfitting (> 10% difference between train and test accuracies): implement hyperparameter tuning to limit tree complexity."
   ]
  },
  {
   "cell_type": "code",
   "execution_count": 24,
   "id": "fcc9fa1c",
   "metadata": {},
   "outputs": [
    {
     "name": "stdout",
     "output_type": "stream",
     "text": [
      "Simpler Model Training Accuracy: 0.9533\n",
      "Simpler Model Test Accuracy: 0.9138\n"
     ]
    }
   ],
   "source": [
    "# reduce model complexity by limiting tree depth, increasing min_samples_split, etc.\n",
    "clf_simple = RandomForestClassifier(\n",
    "    n_estimators=80,        # Reduce the number of trees\n",
    "    max_depth=8,            # Limit the depth of trees\n",
    "    min_samples_split=4,     # Increase minimum samples to split nodes\n",
    "    min_samples_leaf=4,      # Increase the minimum samples per leaf node\n",
    "    random_state=42\n",
    ")\n",
    "\n",
    "# train the simpler model\n",
    "clf_simple.fit(X_train, y_train)\n",
    "\n",
    "# evaluate\n",
    "train_acc_simple = clf_simple.score(X_train, y_train)\n",
    "test_acc_simple = clf_simple.score(X_test, y_test)\n",
    "\n",
    "print(f'Simpler Model Training Accuracy: {train_acc_simple:.4f}')\n",
    "print(f'Simpler Model Test Accuracy: {test_acc_simple:.4f}')"
   ]
  },
  {
   "cell_type": "code",
   "execution_count": 25,
   "id": "ee356499",
   "metadata": {},
   "outputs": [
    {
     "name": "stdout",
     "output_type": "stream",
     "text": [
      "Cross-Validation Scores: [0.92517007 0.89455782 0.9047619  0.91467577 0.89419795]\n",
      "Mean Cross-Validation Accuracy: 0.9067\n"
     ]
    }
   ],
   "source": [
    "# reperform 5-fold cross-validation on the simpler model\n",
    "cv_scores = cross_val_score(clf_simple, X, y, cv=5)\n",
    "\n",
    "# print cross-validation scores and mean accuracy\n",
    "print(f'Cross-Validation Scores: {cv_scores}')\n",
    "print(f'Mean Cross-Validation Accuracy: {cv_scores.mean():.4f}')"
   ]
  },
  {
   "cell_type": "code",
   "execution_count": 26,
   "id": "50f3a25a",
   "metadata": {},
   "outputs": [
    {
     "data": {
      "image/png": "[encoded data removed]",
      "text/plain": [
       "<Figure size 1000x600 with 1 Axes>"
      ]
     },
     "metadata": {},
     "output_type": "display_data"
    }
   ],
   "source": [
    "# get feature importance from the trained model\n",
    "importances = clf_simple.feature_importances_\n",
    "\n",
    "# create a DataFrame for better visualization\n",
    "features = X.columns  # X is the feature set you used for training\n",
    "feature_importance_df = pd.DataFrame({'Feature': features, 'Importance': importances})\n",
    "\n",
    "# sort by importance\n",
    "feature_importance_df = feature_importance_df.sort_values(by='Importance', ascending=False)\n",
    "\n",
    "# plot feature importance\n",
    "plt.figure(figsize=(10, 6))\n",
    "sns.barplot(x='Importance', y='Feature', data=feature_importance_df, palette='viridis')\n",
    "plt.title('Feature Importance in Random Forest (Simplified Model)')\n",
    "plt.show()"
   ]
  },
  {
   "cell_type": "markdown",
   "id": "a2881775",
   "metadata": {},
   "source": [
    "**From the feature importance plot, it is clear that the number of transactions a customer makes is the most critical factor in determining whether they fall into Low, Medium, or High CLV categories, with the quantity of products being the second most important feature:**\n",
    "\n",
    "**1. Frequency's contribution: 60%**\n",
    "\n",
    "**2. Quantity's contribution: 20%**\n",
    "\n",
    "**3. Delivery Charges' contribution: 10%**\n",
    "\n",
    "**4. Recency's contribution: 7%**\n",
    "\n",
    "**5. Discount_pct's contribution: 3%**"
   ]
  },
  {
   "cell_type": "code",
   "execution_count": 27,
   "id": "24805efd",
   "metadata": {},
   "outputs": [],
   "source": [
    "customer_features.to_csv('customer_features.csv', index = False)"
   ]
  }
 ],
 "metadata": {
  "kernelspec": {
   "display_name": "Python 3 (ipykernel)",
   "language": "python",
   "name": "python3"
  },
  "language_info": {
   "codemirror_mode": {
    "name": "ipython",
    "version": 3
   },
   "file_extension": ".py",
   "mimetype": "text/x-python",
   "name": "python",
   "nbconvert_exporter": "python",
   "pygments_lexer": "ipython3",
   "version": "3.11.5"
  }
 },
 "nbformat": 4,
 "nbformat_minor": 5
}
