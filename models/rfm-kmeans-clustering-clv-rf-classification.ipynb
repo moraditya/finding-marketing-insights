{
 "cells": [
  {
   "cell_type": "code",
   "execution_count": 2,
   "id": "063e0ef9",
   "metadata": {},
   "outputs": [],
   "source": [
    "# import relevant libraries\n",
    "\n",
    "import pandas as pd\n",
    "import numpy as np\n",
    "import matplotlib.pyplot as plt\n",
    "import seaborn as sns\n",
    "from sklearn.preprocessing import StandardScaler\n",
    "from sklearn.cluster import KMeans\n",
    "from sklearn.model_selection import train_test_split\n",
    "from sklearn.tree import DecisionTreeClassifier\n",
    "from sklearn.ensemble import RandomForestClassifier\n",
    "from sklearn.metrics import accuracy_score, classification_report, confusion_matrix\n",
    "from imblearn.over_sampling import SMOTE"
   ]
  },
  {
   "cell_type": "code",
   "execution_count": 3,
   "id": "9f5193ca",
   "metadata": {},
   "outputs": [],
   "source": [
    "# load dataframes and relevant csvs\n",
    "\n",
    "spend_revenue = pd.read_csv(r\"/Users/adityamxr/Desktop/finding-marketing-insights/data-analysis/spend_revenue.csv\")\n",
    "sales_full_merged = pd.read_csv(r\"/Users/adityamxr/Desktop/finding-marketing-insights/data-analysis/sales_full_merged.csv\")\n",
    "rfm = pd.read_csv(r\"/Users/adityamxr/Desktop/finding-marketing-insights/models/rfm.csv\")"
   ]
  },
  {
   "cell_type": "markdown",
   "id": "6287223f",
   "metadata": {},
   "source": [
    "## K-Means Clustering to Understand RFM profiles + Strategy"
   ]
  },
  {
   "cell_type": "code",
   "execution_count": 4,
   "id": "e798509a",
   "metadata": {},
   "outputs": [],
   "source": [
    "# prepare the data (RFM values)\n",
    "rfm_for_clustering = rfm[['Recency', 'Frequency', 'Monetary']]"
   ]
  },
  {
   "cell_type": "code",
   "execution_count": 5,
   "id": "b6a00b0b",
   "metadata": {},
   "outputs": [],
   "source": [
    "# standardize the RFM values (important for K-Means to work effectively)\n",
    "scaler = StandardScaler()\n",
    "rfm_scaled = scaler.fit_transform(rfm_for_clustering)"
   ]
  },
  {
   "cell_type": "code",
   "execution_count": 6,
   "id": "cc74a212",
   "metadata": {},
   "outputs": [],
   "source": [
    "# apply K-Means clustering\n",
    "\n",
    "# define the number of clusters\n",
    "kmeans = KMeans(n_clusters=4, random_state=42)\n",
    "rfm['KMeans_Cluster'] = kmeans.fit_predict(rfm_scaled)\n",
    "\n",
    "# analyze cluster profiles\n",
    "# group by the clusters and calculate the mean Recency, Frequency, and Monetary for each cluster\n",
    "cluster_profiles = rfm.groupby('KMeans_Cluster').agg({\n",
    "    'Recency': 'mean',\n",
    "    'Frequency': 'mean',\n",
    "    'Monetary': 'mean',\n",
    "    'CustomerID': 'count'  # Count the number of customers in each cluster\n",
    "}).rename(columns={'CustomerID': 'Number_of_Customers'}).reset_index()"
   ]
  },
  {
   "cell_type": "code",
   "execution_count": 7,
   "id": "9539e258",
   "metadata": {},
   "outputs": [
    {
     "name": "stdout",
     "output_type": "stream",
     "text": [
      "   KMeans_Cluster     Recency   Frequency      Monetary  Number_of_Customers\n",
      "0               0   78.437247   12.892038   1950.349249                  741\n",
      "1               1   81.553672   55.977401   9559.543873                  177\n",
      "2               2  255.108456   10.194853   1562.488956                  544\n",
      "3               3   80.833333  270.666667  53059.966194                    6\n"
     ]
    }
   ],
   "source": [
    "# display cluster profiles to understand the characteristics\n",
    "print(cluster_profiles)\n",
    "\n",
    "# define strategies for each K-Means cluster based on their profiles\n",
    "# assign strategies to clusters 0, 1, 2, 3\n",
    "cluster_strategy = {\n",
    "    0: \"High spenders with frequent purchases, engage with personalized offers to retain them.\",\n",
    "    1: \"Infrequent purchasers with low spend, use incentives like discounts or loyalty programs.\",\n",
    "    2: \"Moderate spenders, encourage repeat purchases with targeted marketing.\",\n",
    "    3: \"New or inactive customers, focus on reactivation campaigns with special offers.\"\n",
    "}\n",
    "\n",
    "# map strategies to each K-Means cluster\n",
    "rfm['Cluster_Strategy'] = rfm['KMeans_Cluster'].map(cluster_strategy)"
   ]
  },
  {
   "cell_type": "code",
   "execution_count": 8,
   "id": "bd7d401c",
   "metadata": {},
   "outputs": [
    {
     "data": {
      "text/html": [
       "<div>\n",
       "<style scoped>\n",
       "    .dataframe tbody tr th:only-of-type {\n",
       "        vertical-align: middle;\n",
       "    }\n",
       "\n",
       "    .dataframe tbody tr th {\n",
       "        vertical-align: top;\n",
       "    }\n",
       "\n",
       "    .dataframe thead th {\n",
       "        text-align: right;\n",
       "    }\n",
       "</style>\n",
       "<table border=\"1\" class=\"dataframe\">\n",
       "  <thead>\n",
       "    <tr style=\"text-align: right;\">\n",
       "      <th></th>\n",
       "      <th>CustomerID</th>\n",
       "      <th>Recency</th>\n",
       "      <th>Frequency</th>\n",
       "      <th>Monetary</th>\n",
       "      <th>R_Score</th>\n",
       "      <th>F_Score</th>\n",
       "      <th>M_Score</th>\n",
       "      <th>RFM_Score</th>\n",
       "      <th>Segment</th>\n",
       "      <th>Strategy</th>\n",
       "      <th>KMeans_Cluster</th>\n",
       "      <th>Cluster_Strategy</th>\n",
       "    </tr>\n",
       "  </thead>\n",
       "  <tbody>\n",
       "    <tr>\n",
       "      <th>0</th>\n",
       "      <td>12346</td>\n",
       "      <td>107</td>\n",
       "      <td>1</td>\n",
       "      <td>171.725887</td>\n",
       "      <td>3</td>\n",
       "      <td>1</td>\n",
       "      <td>1</td>\n",
       "      <td>5</td>\n",
       "      <td>Silver</td>\n",
       "      <td>Provide incentives like discounts or free ship...</td>\n",
       "      <td>0</td>\n",
       "      <td>High spenders with frequent purchases, engage ...</td>\n",
       "    </tr>\n",
       "    <tr>\n",
       "      <th>1</th>\n",
       "      <td>12347</td>\n",
       "      <td>59</td>\n",
       "      <td>31</td>\n",
       "      <td>10632.890268</td>\n",
       "      <td>3</td>\n",
       "      <td>4</td>\n",
       "      <td>4</td>\n",
       "      <td>11</td>\n",
       "      <td>Premium</td>\n",
       "      <td>Focus on maintaining a strong relationship thr...</td>\n",
       "      <td>1</td>\n",
       "      <td>Infrequent purchasers with low spend, use ince...</td>\n",
       "    </tr>\n",
       "    <tr>\n",
       "      <th>2</th>\n",
       "      <td>12348</td>\n",
       "      <td>73</td>\n",
       "      <td>8</td>\n",
       "      <td>1341.274742</td>\n",
       "      <td>3</td>\n",
       "      <td>2</td>\n",
       "      <td>2</td>\n",
       "      <td>7</td>\n",
       "      <td>Gold</td>\n",
       "      <td>Engage more with targeted offers and loyalty p...</td>\n",
       "      <td>0</td>\n",
       "      <td>High spenders with frequent purchases, engage ...</td>\n",
       "    </tr>\n",
       "    <tr>\n",
       "      <th>3</th>\n",
       "      <td>12350</td>\n",
       "      <td>17</td>\n",
       "      <td>11</td>\n",
       "      <td>1080.966849</td>\n",
       "      <td>4</td>\n",
       "      <td>2</td>\n",
       "      <td>2</td>\n",
       "      <td>8</td>\n",
       "      <td>Gold</td>\n",
       "      <td>Engage more with targeted offers and loyalty p...</td>\n",
       "      <td>0</td>\n",
       "      <td>High spenders with frequent purchases, engage ...</td>\n",
       "    </tr>\n",
       "    <tr>\n",
       "      <th>4</th>\n",
       "      <td>12356</td>\n",
       "      <td>107</td>\n",
       "      <td>13</td>\n",
       "      <td>1648.281319</td>\n",
       "      <td>3</td>\n",
       "      <td>3</td>\n",
       "      <td>3</td>\n",
       "      <td>9</td>\n",
       "      <td>Gold</td>\n",
       "      <td>Engage more with targeted offers and loyalty p...</td>\n",
       "      <td>0</td>\n",
       "      <td>High spenders with frequent purchases, engage ...</td>\n",
       "    </tr>\n",
       "  </tbody>\n",
       "</table>\n",
       "</div>"
      ],
      "text/plain": [
       "   CustomerID  Recency  Frequency      Monetary  R_Score  F_Score  M_Score  \\\n",
       "0       12346      107          1    171.725887        3        1        1   \n",
       "1       12347       59         31  10632.890268        3        4        4   \n",
       "2       12348       73          8   1341.274742        3        2        2   \n",
       "3       12350       17         11   1080.966849        4        2        2   \n",
       "4       12356      107         13   1648.281319        3        3        3   \n",
       "\n",
       "   RFM_Score  Segment                                           Strategy  \\\n",
       "0          5   Silver  Provide incentives like discounts or free ship...   \n",
       "1         11  Premium  Focus on maintaining a strong relationship thr...   \n",
       "2          7     Gold  Engage more with targeted offers and loyalty p...   \n",
       "3          8     Gold  Engage more with targeted offers and loyalty p...   \n",
       "4          9     Gold  Engage more with targeted offers and loyalty p...   \n",
       "\n",
       "   KMeans_Cluster                                   Cluster_Strategy  \n",
       "0               0  High spenders with frequent purchases, engage ...  \n",
       "1               1  Infrequent purchasers with low spend, use ince...  \n",
       "2               0  High spenders with frequent purchases, engage ...  \n",
       "3               0  High spenders with frequent purchases, engage ...  \n",
       "4               0  High spenders with frequent purchases, engage ...  "
      ]
     },
     "execution_count": 8,
     "metadata": {},
     "output_type": "execute_result"
    }
   ],
   "source": [
    "# display the RFM dataframe with the new clusters and strategies\n",
    "rfm.head()"
   ]
  },
  {
   "cell_type": "code",
   "execution_count": null,
   "id": "845cf6a6",
   "metadata": {},
   "outputs": [],
   "source": []
  }
 ],
 "metadata": {
  "kernelspec": {
   "display_name": "Python 3 (ipykernel)",
   "language": "python",
   "name": "python3"
  },
  "language_info": {
   "codemirror_mode": {
    "name": "ipython",
    "version": 3
   },
   "file_extension": ".py",
   "mimetype": "text/x-python",
   "name": "python",
   "nbconvert_exporter": "python",
   "pygments_lexer": "ipython3",
   "version": "3.11.5"
  }
 },
 "nbformat": 4,
 "nbformat_minor": 5
}
