{
 "cells": [
  {
   "cell_type": "code",
   "execution_count": 1,
   "id": "49858370",
   "metadata": {},
   "outputs": [],
   "source": [
    "# import relevant libraries\n",
    "import pandas as pd\n",
    "import numpy as np\n",
    "import matplotlib.pyplot as plt\n",
    "import seaborn as sns\n",
    "from sklearn.preprocessing import StandardScaler\n",
    "from sklearn.model_selection import train_test_split\n",
    "from sklearn.tree import DecisionTreeClassifier\n",
    "from sklearn.ensemble import RandomForestClassifier\n",
    "from sklearn.metrics import accuracy_score, classification_report, confusion_matrix\n",
    "from mlxtend.frequent_patterns import apriori, association_rules\n",
    "from imblearn.over_sampling import SMOTE"
   ]
  },
  {
   "cell_type": "code",
   "execution_count": 2,
   "id": "66ddc712",
   "metadata": {},
   "outputs": [],
   "source": [
    "# load the dataframes\n",
    "spend_revenue = pd.read_csv(r\"/Users/adityamxr/Desktop/finding-marketing-insights/data-analysis/spend_revenue.csv\")\n",
    "sales_full_merged = pd.read_csv(r\"/Users/adityamxr/Desktop/finding-marketing-insights/data-analysis/sales_full_merged.csv\")\n",
    "rfm = pd.read_csv(r\"/Users/adityamxr/Desktop/finding-marketing-insights/models/rfm.csv\")"
   ]
  },
  {
   "cell_type": "code",
   "execution_count": 3,
   "id": "e7506822",
   "metadata": {},
   "outputs": [],
   "source": [
    "# transaction_date is in str format - convert to datetime\n",
    "sales_full_merged['Transaction_Date'] = pd.to_datetime(sales_full_merged['Transaction_Date'])"
   ]
  },
  {
   "cell_type": "code",
   "execution_count": 4,
   "id": "f89110cf",
   "metadata": {},
   "outputs": [],
   "source": [
    "# sort by CustomerID and Transaction_Date to calculate the difference between transactions\n",
    "sales_full_merged = sales_full_merged.sort_values(by=['CustomerID', 'Transaction_Date'])\n",
    "\n",
    "# calculate the difference in days between consecutive transactions for each customer\n",
    "sales_full_merged['Days_Between_Purchases'] = sales_full_merged.groupby('CustomerID')['Transaction_Date'].diff().dt.days\n",
    "\n",
    "# filter out the first purchase (will have NaN for Days_Between_Purchases)\n",
    "repeat_customers = sales_full_merged.dropna(subset=['Days_Between_Purchases'])"
   ]
  },
  {
   "cell_type": "code",
   "execution_count": null,
   "id": "fe2e72eb",
   "metadata": {},
   "outputs": [],
   "source": []
  }
 ],
 "metadata": {
  "kernelspec": {
   "display_name": "Python 3 (ipykernel)",
   "language": "python",
   "name": "python3"
  },
  "language_info": {
   "codemirror_mode": {
    "name": "ipython",
    "version": 3
   },
   "file_extension": ".py",
   "mimetype": "text/x-python",
   "name": "python",
   "nbconvert_exporter": "python",
   "pygments_lexer": "ipython3",
   "version": "3.11.5"
  }
 },
 "nbformat": 4,
 "nbformat_minor": 5
}
