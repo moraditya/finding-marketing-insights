{
 "cells": [
  {
   "cell_type": "code",
   "execution_count": 1,
   "id": "4e43ffd6",
   "metadata": {},
   "outputs": [],
   "source": [
    "# import relevant libraries\n",
    "import pandas as pd\n",
    "import numpy as np\n",
    "import matplotlib.pyplot as plt\n",
    "import seaborn as sns\n",
    "from sklearn.preprocessing import StandardScaler\n",
    "from sklearn.model_selection import train_test_split\n",
    "from sklearn.tree import DecisionTreeClassifier\n",
    "from sklearn.ensemble import RandomForestClassifier\n",
    "from sklearn.metrics import accuracy_score, classification_report, confusion_matrix\n",
    "from mlxtend.frequent_patterns import apriori, association_rules\n",
    "from imblearn.over_sampling import SMOTE"
   ]
  },
  {
   "cell_type": "code",
   "execution_count": 9,
   "id": "57848081",
   "metadata": {},
   "outputs": [],
   "source": [
    "# load the dataframes\n",
    "spend_revenue = pd.read_csv(r\"/Users/adityamxr/Desktop/finding-marketing-insights/data-analysis/spend_revenue.csv\")\n",
    "sales_full_merged = pd.read_csv(r\"/Users/adityamxr/Desktop/finding-marketing-insights/data-analysis/sales_full_merged.csv\")\n",
    "rfm = pd.read_csv(r\"/Users/adityamxr/Desktop/finding-marketing-insights/models/rfm.csv\")\n",
    "customer_features = pd.read_csv(r\"/Users/adityamxr/Desktop/finding-marketing-insights/models/customer_features.csv\")"
   ]
  },
  {
   "cell_type": "code",
   "execution_count": 3,
   "id": "5d40dd3c",
   "metadata": {},
   "outputs": [],
   "source": [
    "# transaction_date is in str format - convert to datetime\n",
    "sales_full_merged['Transaction_Date'] = pd.to_datetime(sales_full_merged['Transaction_Date'])"
   ]
  },
  {
   "cell_type": "code",
   "execution_count": 4,
   "id": "242a6732",
   "metadata": {},
   "outputs": [],
   "source": [
    "# sort by CustomerID and Transaction_Date to calculate the difference between transactions\n",
    "sales_full_merged = sales_full_merged.sort_values(by=['CustomerID', 'Transaction_Date'])\n",
    "\n",
    "# calculate the difference in days between consecutive transactions for each customer\n",
    "sales_full_merged['Days_Between_Purchases'] = sales_full_merged.groupby('CustomerID')['Transaction_Date'].diff().dt.days\n",
    "\n",
    "# filter out the first purchase (will have NaN for Days_Between_Purchases)\n",
    "repeat_customers = sales_full_merged.dropna(subset=['Days_Between_Purchases'])"
   ]
  },
  {
   "cell_type": "code",
   "execution_count": 5,
   "id": "43f61cba",
   "metadata": {},
   "outputs": [],
   "source": [
    "# calculate the average days between purchases for each repeat customer\n",
    "avg_days_between_purchases = repeat_customers.groupby('CustomerID')['Days_Between_Purchases'].mean().reset_index()\n",
    "\n",
    "# rename the column for clarity\n",
    "avg_days_between_purchases.columns = ['CustomerID', 'Avg_Days_Between_Purchases']"
   ]
  },
  {
   "cell_type": "code",
   "execution_count": 6,
   "id": "a732ade8",
   "metadata": {},
   "outputs": [],
   "source": [
    "# define a function to categorize the average days into the four categories\n",
    "def categorize_days(days):\n",
    "    if days <= 30:\n",
    "        return '0-30 days'\n",
    "    else:\n",
    "        return '30+ days'\n",
    "\n",
    "# apply the function to categorize each customer\n",
    "avg_days_between_purchases['Next_Purchase_Category'] = avg_days_between_purchases['Avg_Days_Between_Purchases'].apply(categorize_days)"
   ]
  },
  {
   "cell_type": "code",
   "execution_count": 7,
   "id": "f4ea3a7e",
   "metadata": {},
   "outputs": [
    {
     "data": {
      "text/html": [
       "<div>\n",
       "<style scoped>\n",
       "    .dataframe tbody tr th:only-of-type {\n",
       "        vertical-align: middle;\n",
       "    }\n",
       "\n",
       "    .dataframe tbody tr th {\n",
       "        vertical-align: top;\n",
       "    }\n",
       "\n",
       "    .dataframe thead th {\n",
       "        text-align: right;\n",
       "    }\n",
       "</style>\n",
       "<table border=\"1\" class=\"dataframe\">\n",
       "  <thead>\n",
       "    <tr style=\"text-align: right;\">\n",
       "      <th></th>\n",
       "      <th>CustomerID</th>\n",
       "      <th>Avg_Days_Between_Purchases</th>\n",
       "      <th>Next_Purchase_Category</th>\n",
       "    </tr>\n",
       "  </thead>\n",
       "  <tbody>\n",
       "    <tr>\n",
       "      <th>0</th>\n",
       "      <td>12346</td>\n",
       "      <td>0.000000</td>\n",
       "      <td>0-30 days</td>\n",
       "    </tr>\n",
       "    <tr>\n",
       "      <th>1</th>\n",
       "      <td>12347</td>\n",
       "      <td>3.779661</td>\n",
       "      <td>0-30 days</td>\n",
       "    </tr>\n",
       "    <tr>\n",
       "      <th>2</th>\n",
       "      <td>12348</td>\n",
       "      <td>5.409091</td>\n",
       "      <td>0-30 days</td>\n",
       "    </tr>\n",
       "    <tr>\n",
       "      <th>3</th>\n",
       "      <td>12350</td>\n",
       "      <td>0.000000</td>\n",
       "      <td>0-30 days</td>\n",
       "    </tr>\n",
       "    <tr>\n",
       "      <th>4</th>\n",
       "      <td>12356</td>\n",
       "      <td>0.000000</td>\n",
       "      <td>0-30 days</td>\n",
       "    </tr>\n",
       "  </tbody>\n",
       "</table>\n",
       "</div>"
      ],
      "text/plain": [
       "   CustomerID  Avg_Days_Between_Purchases Next_Purchase_Category\n",
       "0       12346                    0.000000              0-30 days\n",
       "1       12347                    3.779661              0-30 days\n",
       "2       12348                    5.409091              0-30 days\n",
       "3       12350                    0.000000              0-30 days\n",
       "4       12356                    0.000000              0-30 days"
      ]
     },
     "execution_count": 7,
     "metadata": {},
     "output_type": "execute_result"
    }
   ],
   "source": [
    "# verify\n",
    "avg_days_between_purchases.head()"
   ]
  },
  {
   "cell_type": "code",
   "execution_count": 10,
   "id": "2ed8eebe",
   "metadata": {},
   "outputs": [],
   "source": [
    "# merge customer_features df from earlier with avg_days_between_purchases df\n",
    "\n",
    "classification_data = pd.merge(avg_days_between_purchases, customer_features, on='CustomerID')"
   ]
  },
  {
   "cell_type": "code",
   "execution_count": 11,
   "id": "e021f909",
   "metadata": {},
   "outputs": [
    {
     "data": {
      "text/html": [
       "<div>\n",
       "<style scoped>\n",
       "    .dataframe tbody tr th:only-of-type {\n",
       "        vertical-align: middle;\n",
       "    }\n",
       "\n",
       "    .dataframe tbody tr th {\n",
       "        vertical-align: top;\n",
       "    }\n",
       "\n",
       "    .dataframe thead th {\n",
       "        text-align: right;\n",
       "    }\n",
       "</style>\n",
       "<table border=\"1\" class=\"dataframe\">\n",
       "  <thead>\n",
       "    <tr style=\"text-align: right;\">\n",
       "      <th></th>\n",
       "      <th>CustomerID</th>\n",
       "      <th>Avg_Days_Between_Purchases</th>\n",
       "      <th>Next_Purchase_Category</th>\n",
       "      <th>Recency</th>\n",
       "      <th>Frequency</th>\n",
       "      <th>Quantity</th>\n",
       "      <th>Delivery_Charges</th>\n",
       "      <th>Discount_pct</th>\n",
       "      <th>Total_Revenue</th>\n",
       "      <th>CLV_Category</th>\n",
       "    </tr>\n",
       "  </thead>\n",
       "  <tbody>\n",
       "    <tr>\n",
       "      <th>0</th>\n",
       "      <td>12346</td>\n",
       "      <td>0.000000</td>\n",
       "      <td>0-30 days</td>\n",
       "      <td>107</td>\n",
       "      <td>1</td>\n",
       "      <td>3</td>\n",
       "      <td>75.000000</td>\n",
       "      <td>30.000000</td>\n",
       "      <td>171.725887</td>\n",
       "      <td>Low</td>\n",
       "    </tr>\n",
       "    <tr>\n",
       "      <th>1</th>\n",
       "      <td>12347</td>\n",
       "      <td>3.779661</td>\n",
       "      <td>0-30 days</td>\n",
       "      <td>59</td>\n",
       "      <td>31</td>\n",
       "      <td>342</td>\n",
       "      <td>11.085667</td>\n",
       "      <td>24.666667</td>\n",
       "      <td>10632.890268</td>\n",
       "      <td>High</td>\n",
       "    </tr>\n",
       "    <tr>\n",
       "      <th>2</th>\n",
       "      <td>12348</td>\n",
       "      <td>5.409091</td>\n",
       "      <td>0-30 days</td>\n",
       "      <td>73</td>\n",
       "      <td>8</td>\n",
       "      <td>209</td>\n",
       "      <td>8.571739</td>\n",
       "      <td>24.782609</td>\n",
       "      <td>1341.274742</td>\n",
       "      <td>Low</td>\n",
       "    </tr>\n",
       "    <tr>\n",
       "      <th>3</th>\n",
       "      <td>12350</td>\n",
       "      <td>0.000000</td>\n",
       "      <td>0-30 days</td>\n",
       "      <td>17</td>\n",
       "      <td>11</td>\n",
       "      <td>21</td>\n",
       "      <td>7.522353</td>\n",
       "      <td>30.000000</td>\n",
       "      <td>1080.966849</td>\n",
       "      <td>Low</td>\n",
       "    </tr>\n",
       "    <tr>\n",
       "      <th>4</th>\n",
       "      <td>12356</td>\n",
       "      <td>0.000000</td>\n",
       "      <td>0-30 days</td>\n",
       "      <td>107</td>\n",
       "      <td>13</td>\n",
       "      <td>56</td>\n",
       "      <td>17.708056</td>\n",
       "      <td>30.000000</td>\n",
       "      <td>1648.281319</td>\n",
       "      <td>Low</td>\n",
       "    </tr>\n",
       "  </tbody>\n",
       "</table>\n",
       "</div>"
      ],
      "text/plain": [
       "   CustomerID  Avg_Days_Between_Purchases Next_Purchase_Category  Recency  \\\n",
       "0       12346                    0.000000              0-30 days      107   \n",
       "1       12347                    3.779661              0-30 days       59   \n",
       "2       12348                    5.409091              0-30 days       73   \n",
       "3       12350                    0.000000              0-30 days       17   \n",
       "4       12356                    0.000000              0-30 days      107   \n",
       "\n",
       "   Frequency  Quantity  Delivery_Charges  Discount_pct  Total_Revenue  \\\n",
       "0          1         3         75.000000     30.000000     171.725887   \n",
       "1         31       342         11.085667     24.666667   10632.890268   \n",
       "2          8       209          8.571739     24.782609    1341.274742   \n",
       "3         11        21          7.522353     30.000000    1080.966849   \n",
       "4         13        56         17.708056     30.000000    1648.281319   \n",
       "\n",
       "  CLV_Category  \n",
       "0          Low  \n",
       "1         High  \n",
       "2          Low  \n",
       "3          Low  \n",
       "4          Low  "
      ]
     },
     "execution_count": 11,
     "metadata": {},
     "output_type": "execute_result"
    }
   ],
   "source": [
    "# verify\n",
    "\n",
    "classification_data.head()"
   ]
  },
  {
   "cell_type": "code",
   "execution_count": 12,
   "id": "721dc452",
   "metadata": {},
   "outputs": [],
   "source": [
    "# define X and y\n",
    "X = classification_data[['Recency', 'Frequency', 'Total_Revenue']]  # Features\n",
    "y = classification_data['Next_Purchase_Category']  # Target"
   ]
  },
  {
   "cell_type": "code",
   "execution_count": 13,
   "id": "94302e06",
   "metadata": {},
   "outputs": [],
   "source": [
    "# train test split\n",
    "X_train, X_test, y_train, y_test = train_test_split(X, y, test_size=0.3, random_state=42)"
   ]
  },
  {
   "cell_type": "code",
   "execution_count": 14,
   "id": "36cafe93",
   "metadata": {},
   "outputs": [
    {
     "name": "stdout",
     "output_type": "stream",
     "text": [
      "Accuracy: 0.9834\n",
      "              precision    recall  f1-score   support\n",
      "\n",
      "   0-30 days       0.99      1.00      0.99       415\n",
      "    30+ days       0.00      0.00      0.00         6\n",
      "\n",
      "    accuracy                           0.98       421\n",
      "   macro avg       0.49      0.50      0.50       421\n",
      "weighted avg       0.97      0.98      0.98       421\n",
      "\n"
     ]
    }
   ],
   "source": [
    "# initialize rf model\n",
    "clf2 = RandomForestClassifier(random_state=42)\n",
    "clf2.fit(X_train, y_train)\n",
    "\n",
    "# evaluate the model\n",
    "y_pred = clf2.predict(X_test)\n",
    "\n",
    "# get accuracy & classification report\n",
    "accuracy = accuracy_score(y_test, y_pred)\n",
    "print(f'Accuracy: {accuracy:.4f}')\n",
    "print(classification_report(y_test, y_pred))"
   ]
  },
  {
   "cell_type": "code",
   "execution_count": 15,
   "id": "4fcf46ec",
   "metadata": {},
   "outputs": [
    {
     "name": "stdout",
     "output_type": "stream",
     "text": [
      "Next_Purchase_Category\n",
      "0-30 days    1385\n",
      "30+ days       17\n",
      "Name: count, dtype: int64\n"
     ]
    }
   ],
   "source": [
    "# class imbalance might exist, check distribution:\n",
    "print(y.value_counts())"
   ]
  },
  {
   "cell_type": "code",
   "execution_count": 16,
   "id": "3b17d2e9",
   "metadata": {},
   "outputs": [
    {
     "name": "stdout",
     "output_type": "stream",
     "text": [
      "Resampled class distribution:\n",
      "Next_Purchase_Category\n",
      "0-30 days    970\n",
      "30+ days     970\n",
      "Name: count, dtype: int64\n"
     ]
    }
   ],
   "source": [
    "# use SMOTE to oversample the minority classes\n",
    "smote = SMOTE(random_state=42, k_neighbors=2)\n",
    "X_resampled, y_resampled = smote.fit_resample(X_train, y_train)\n",
    "\n",
    "# convert the resampled y values to series to check the distribution\n",
    "y_resampled_series = pd.Series(y_resampled)\n",
    "\n",
    "# print distribution\n",
    "print(\"Resampled class distribution:\")\n",
    "print(y_resampled_series.value_counts())"
   ]
  },
  {
   "cell_type": "code",
   "execution_count": 17,
   "id": "cab522ea",
   "metadata": {},
   "outputs": [],
   "source": [
    "# train the Random Forest model on the resampled data\n",
    "clf_smote = RandomForestClassifier(random_state=42, class_weight='balanced')\n",
    "clf_smote.fit(X_resampled, y_resampled)\n",
    "\n",
    "# make predictions on the test data\n",
    "y_pred_smote = clf_smote.predict(X_test)"
   ]
  },
  {
   "cell_type": "code",
   "execution_count": 18,
   "id": "feea6376",
   "metadata": {},
   "outputs": [
    {
     "name": "stdout",
     "output_type": "stream",
     "text": [
      "Accuracy: 0.9715\n",
      "Classification Report:\n",
      "              precision    recall  f1-score   support\n",
      "\n",
      "   0-30 days       0.99      0.98      0.99       415\n",
      "    30+ days       0.20      0.33      0.25         6\n",
      "\n",
      "    accuracy                           0.97       421\n",
      "   macro avg       0.60      0.66      0.62       421\n",
      "weighted avg       0.98      0.97      0.97       421\n",
      "\n",
      "Confusion Matrix:\n",
      "[[407   8]\n",
      " [  4   2]]\n"
     ]
    }
   ],
   "source": [
    "# get accuracy of the model\n",
    "accuracy_smote = accuracy_score(y_test, y_pred_smote)\n",
    "print(f\"Accuracy: {accuracy_smote:.4f}\")\n",
    "\n",
    "# print classification report\n",
    "print(\"Classification Report:\")\n",
    "print(classification_report(y_test, y_pred_smote))\n",
    "\n",
    "# print the confusion matrix\n",
    "print(\"Confusion Matrix:\")\n",
    "print(confusion_matrix(y_test, y_pred_smote))"
   ]
  },
  {
   "cell_type": "markdown",
   "id": "fa638f17",
   "metadata": {},
   "source": [
    "**Model performs poorly for minority class 30+ days (62% accuracy) despite SMOTE resampling and using balanced class weights. This does makes sense since there are so few instances of customers in the 30+ categories. Model performs very well on 0-30 day repeat customers, with an accuracy of 97%.**"
   ]
  }
 ],
 "metadata": {
  "kernelspec": {
   "display_name": "Python 3 (ipykernel)",
   "language": "python",
   "name": "python3"
  },
  "language_info": {
   "codemirror_mode": {
    "name": "ipython",
    "version": 3
   },
   "file_extension": ".py",
   "mimetype": "text/x-python",
   "name": "python",
   "nbconvert_exporter": "python",
   "pygments_lexer": "ipython3",
   "version": "3.11.5"
  }
 },
 "nbformat": 4,
 "nbformat_minor": 5
}
